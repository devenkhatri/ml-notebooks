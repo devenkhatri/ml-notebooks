{
  "nbformat": 4,
  "nbformat_minor": 0,
  "metadata": {
    "colab": {
      "provenance": []
    },
    "kernelspec": {
      "name": "python3",
      "display_name": "Python 3"
    },
    "language_info": {
      "name": "python"
    }
  },
  "cells": [
    {
      "cell_type": "code",
      "source": [
        "pip install PyPDF2"
      ],
      "metadata": {
        "colab": {
          "base_uri": "https://localhost:8080/"
        },
        "id": "j471QaGNEwbo",
        "outputId": "41357e1b-0a2e-48ca-8727-326e364bf1a2"
      },
      "execution_count": null,
      "outputs": [
        {
          "output_type": "stream",
          "name": "stdout",
          "text": [
            "Collecting PyPDF2\n",
            "  Downloading pypdf2-3.0.1-py3-none-any.whl (232 kB)\n",
            "\u001b[2K     \u001b[90m━━━━━━━━━━━━━━━━━━━━━━━━━━━━━━━━━━━━━━━━\u001b[0m \u001b[32m232.6/232.6 kB\u001b[0m \u001b[31m3.7 MB/s\u001b[0m eta \u001b[36m0:00:00\u001b[0m\n",
            "\u001b[?25hInstalling collected packages: PyPDF2\n",
            "Successfully installed PyPDF2-3.0.1\n"
          ]
        }
      ]
    },
    {
      "cell_type": "code",
      "execution_count": null,
      "metadata": {
        "colab": {
          "base_uri": "https://localhost:8080/"
        },
        "id": "NiL798Z6Cct1",
        "outputId": "6c40350e-8767-4950-ca2f-234931ad035b"
      },
      "outputs": [
        {
          "output_type": "stream",
          "name": "stdout",
          "text": [
            "----Metadata of the file----\n",
            "/Creator:Mozilla/5.0 (Macintosh; Intel Mac OS X 10_15_7) AppleWebKit/537.36 (KHTML, like Gecko) Chrome/115.0.0.0 Safari/537.36\n",
            "/Producer:Skia/PDF m115\n",
            "/CreationDate:D:20230821075428+00'00'\n",
            "/ModDate:D:20230821075428+00'00'\n",
            "----CONTENT of the file----\n",
            "SHREE SOMNA TH TRUST  - PRABHAS P ATAN\n",
            "Registration No. A-697(JND)\n",
            "Kanubhai Chavada\n",
            "Thankyou For  booking with Us. Please ﬁnd below Conﬁrmation detail.\n",
            "Guest House Name : MAHESHW ARI ATITHI BHA VAN\n",
            "Transaction Id : 20230821074851227\n",
            "Booking Id : 433050\n",
            "Addr ess : 29,Ashirvad Avenue, B/h J.K.Park, Near  Raghuvir  Vatika, Chikhodra, ,Gujarat ,INDIA\n",
            "Mobile No : 9825707090 Email Id : deven.khatri@gmail.com\n",
            "Check-In-Date : Aug. 25, 2023 Check-out-Date : Aug. 26, 2023\n",
            "Booking Details :  MAHESHW ARI ATITHI BHA VAN\n",
            "Room Type Days Rooms Deposit (Rs.)\n",
            "Suite 1 1 ₹ 2000\n",
            "Total: ₹ 2000\n",
            "Total Deposit : Two Thousand Rupees\n",
            "*Note : Only One(1) Person extra allowed Per  room at extra Cost.\n",
            "Terms & Conditions :\n",
            "1. At the time of arrival at Guest house, Pls. bring a Receipt which will be generated after  successful transaction.\n",
            "2. Check-in time 1 1:00 am and Check-out time will be 10:00 am sharp.\n",
            "3. Once Booking is conﬁrmed, Check-in date CANNOT  change.\n",
            "4. As per  government notiﬁcation, all guest and family members should pr oduce their  valid photo identity card/pr oof at booking ofﬁce during check-in.\n",
            "Without valid identity card/pr oof, r ooms will not be allotted.\n",
            "5. Extra persons(s) will be char ged as actual per day per person.\n",
            "6. Pilgrims must pay Char ge / Penalties as decided by Trust in case of any damage in rooms during your stay .\n",
            "7. Pilgrims must pay additional char ge in case additional beds are needed.\n",
            "8. Subject to Gir -Somnath Jurisdiction.\n",
            "9. Booking cancellation request must be forwarded to somgh1 1@gmail.com\n",
            "10. Cancellation can be done through email only .\n",
            "1. Cancellation before 7 days - 90% will be refund on Invoice Amount.\n",
            "2. Cancellation before 4 days - 85% will be refund on Invoice Amount.\n",
            "3. Cancellation before 24 hours - 80% will be refund on Invoice Amount.\n",
            "11. Room Keys must be collected from CENTRAL  BOOKING OFFICE Somnath.\n",
            "12. For Sagar Darshan Guest House, Vehicle pass must to be collected from Central Booking Ofﬁce.\n",
            "13. Wearing Mask is Compulsory & Temperature Measurement is Compulsory .\n",
            "14. Use Hand Sanitizer Before & After Filling Form.\n",
            "15. Maintain Social Distance & Administration have marked Circles and Foot Marks in Booking Ofﬁce and Guest House, follow them for maintaining Social\n",
            "Distancing.\n",
            "16. Cooperate with the On Duty Staf f. They are there to Help you.\n",
            "17. Avoid Gathering during your stay in Guest house. Stay inside your rooms.\n",
            "18. Do not Touch Railings, Lift and any other Things kept in Guest house.\n",
            "19. Follow the Instructions / guidelines Given by the District & Trust’s Administrations.\n"
          ]
        }
      ],
      "source": [
        "import PyPDF2 as pypdf\n",
        "\n",
        "# Open the PDF file in binary mode.\n",
        "pdf_file = open(\"example.pdf\", \"rb\")\n",
        "\n",
        "# Create a reader object.\n",
        "pdf_reader = pypdf.PdfReader(pdf_file)\n",
        "\n",
        "# Get the number of pages.\n",
        "num_pages = len(pdf_reader.pages)\n",
        "\n",
        "# Create a list to store the text from each page.\n",
        "text_list = []\n",
        "\n",
        "# Iterate over the pages and extract the text.\n",
        "for i in range(num_pages):\n",
        "  page = pdf_reader.pages[i]\n",
        "  text = page.extract_text()\n",
        "  text_list.append(text)\n",
        "\n",
        "# Print the metadata of the file\n",
        "docInfo = pdf_reader.metadata\n",
        "print (\"----Metadata of the file----\")\n",
        "for metadata in docInfo:\n",
        "  print (metadata+ \":\" +docInfo[metadata])\n",
        "\n",
        "print (\"----CONTENT of the file----\")\n",
        "# Print the text.\n",
        "for text in text_list:\n",
        "  print(text)\n",
        "\n",
        "# Close the file.\n",
        "pdf_file.close()"
      ]
    }
  ]
}