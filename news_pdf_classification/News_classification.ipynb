{
  "nbformat": 4,
  "nbformat_minor": 0,
  "metadata": {
    "colab": {
      "provenance": []
    },
    "kernelspec": {
      "name": "python3",
      "display_name": "Python 3"
    },
    "language_info": {
      "name": "python"
    }
  },
  "cells": [
    {
      "cell_type": "markdown",
      "source": [
        "# AIM:\n",
        "To Predict the category of news(sports, business,politics ,tech ,entertainment) from the snippet .The dataset consist of 2225 rows"
      ],
      "metadata": {
        "id": "td630PK4bOya"
      }
    },
    {
      "cell_type": "markdown",
      "source": [
        "# Import necessary libraries\n",
        "Importing basic libraries such as numpy to perform mathematical operations, pandas for doing data manipulation ,data analysis and it also has the capabilities to perform various operations for eg: cleaning of datas .For data visualization we are using seaborn library which is based on matplotlib .For customizing plots we are using matplotlib.pyplot"
      ],
      "metadata": {
        "id": "ujH6mrU_fopK"
      }
    },
    {
      "cell_type": "code",
      "execution_count": null,
      "metadata": {
        "id": "bz42PRhMaoV7"
      },
      "outputs": [],
      "source": [
        "#basic libraries\n",
        "\n",
        "\n",
        "import numpy as np #used to perform mathematical operations\n",
        "\n",
        "import pandas as pd # software library which is used for data manipulation and data analysis , have the capabilty to perform various operation like cleaning , restructuring of data\n",
        "\n",
        "import seaborn as sb # library used for data visualization\n",
        "\n",
        "import matplotlib.pyplot as plt # customizing plots"
      ]
    },
    {
      "cell_type": "markdown",
      "source": [
        "# Understand the dataset\n",
        "Upload the dataset(our dataset is in csv format) and read the dataset from csv as data"
      ],
      "metadata": {
        "id": "rS3QhLFMgAcT"
      }
    },
    {
      "cell_type": "code",
      "source": [
        "data = pd.read_csv('data.csv')#preserving  original data for future use\n",
        "data.text"
      ],
      "metadata": {
        "colab": {
          "base_uri": "https://localhost:8080/"
        },
        "id": "nWUca1zzbZ2z",
        "outputId": "d3501c76-ee54-484e-a287-fe154843a019"
      },
      "execution_count": null,
      "outputs": [
        {
          "output_type": "execute_result",
          "data": {
            "text/plain": [
              "0       tv future in the hands of viewers with home th...\n",
              "1       worldcom boss  left books alone  former worldc...\n",
              "2       tigers wary of farrell  gamble  leicester say ...\n",
              "3       yeading face newcastle in fa cup premiership s...\n",
              "4       ocean s twelve raids box office ocean s twelve...\n",
              "                              ...                        \n",
              "2220    cars pull down us retail figures us retail sal...\n",
              "2221    kilroy unveils immigration policy ex-chatshow ...\n",
              "2222    rem announce new glasgow concert us band rem h...\n",
              "2223    how political squabbles snowball it s become c...\n",
              "2224    souness delight at euro progress boss graeme s...\n",
              "Name: text, Length: 2225, dtype: object"
            ]
          },
          "metadata": {},
          "execution_count": 3
        }
      ]
    },
    {
      "cell_type": "markdown",
      "source": [
        "# Model Building\n",
        "To check Null values ,its found that no null error is obtained therefore no need to use dropna()\n"
      ],
      "metadata": {
        "id": "Qpvg93JHc3S5"
      }
    },
    {
      "cell_type": "code",
      "source": [
        "data.isnull().sum()"
      ],
      "metadata": {
        "colab": {
          "base_uri": "https://localhost:8080/"
        },
        "id": "ydU8xr0ccbgb",
        "outputId": "283e82bd-9815-4e21-be49-62ca90428b55"
      },
      "execution_count": null,
      "outputs": [
        {
          "output_type": "execute_result",
          "data": {
            "text/plain": [
              "category    0\n",
              "text        0\n",
              "dtype: int64"
            ]
          },
          "metadata": {},
          "execution_count": 5
        }
      ]
    },
    {
      "cell_type": "code",
      "source": [
        "from sklearn.model_selection import train_test_split\n",
        "x = data.text\n",
        "y = data.category\n",
        "x_train, x_test, y_train, y_test = train_test_split(x, y, test_size=0.3, random_state = 42)"
      ],
      "metadata": {
        "id": "2xrn1A6bcxUZ"
      },
      "execution_count": null,
      "outputs": []
    },
    {
      "cell_type": "markdown",
      "source": [
        "## Applying Logistic Regression model"
      ],
      "metadata": {
        "id": "JQiihKE7hFsF"
      }
    },
    {
      "cell_type": "code",
      "source": [
        "\"\"\"Logistic Regression\"\"\"\n",
        "from sklearn.linear_model import LogisticRegression\n",
        "from sklearn.pipeline import Pipeline\n",
        "from sklearn.feature_extraction.text import TfidfTransformer\n",
        "from sklearn.metrics import accuracy_score\n",
        "import re\n",
        "from sklearn.feature_extraction.text import CountVectorizer, TfidfVectorizer\n",
        "lr = Pipeline([('vect', CountVectorizer()),\n",
        " ('tfidf', TfidfTransformer()),\n",
        " ('clf', LogisticRegression())\n",
        " ])\n",
        "lr.fit(x_train, y_train) # Training the model\n",
        "y_pred1 = lr.predict(x_test) # Predicting on test data\n",
        "# Calculating Accuracy\n",
        "print(f\"Accuracy is : {accuracy_score(y_pred1,y_test)}\")"
      ],
      "metadata": {
        "colab": {
          "base_uri": "https://localhost:8080/"
        },
        "id": "5gGB_OvSeXoN",
        "outputId": "0a890394-fe2c-453f-bfb8-602c1ce65cbe"
      },
      "execution_count": null,
      "outputs": [
        {
          "output_type": "stream",
          "name": "stdout",
          "text": [
            "Accuracy is : 0.9700598802395209\n"
          ]
        }
      ]
    },
    {
      "cell_type": "markdown",
      "source": [
        "# Testing"
      ],
      "metadata": {
        "id": "Izuk36Eyhoj6"
      }
    },
    {
      "cell_type": "code",
      "execution_count": null,
      "metadata": {
        "colab": {
          "base_uri": "https://localhost:8080/"
        },
        "id": "sSdJJLj5tZlB",
        "outputId": "90621f18-10fc-42d7-f1fa-3d93ce6ed156"
      },
      "outputs": [
        {
          "output_type": "stream",
          "name": "stdout",
          "text": [
            "category prediction:['tech']\n"
          ]
        }
      ],
      "source": [
        "features = ([' Meta recently introduced a standalone WhatsApp app for WearOS devices. Similar to how voice messages work on the phone version of WhatsApp, WearOS users can record messages and send them from the watch itself.'])\n",
        "pred=lr.predict(features)\n",
        "print(\"category prediction:{}\".format(pred))"
      ]
    },
    {
      "cell_type": "code",
      "source": [
        "features=([\"Crisil Ltd managing director and CEO Amish Mehta said the agency expects India's gross domestic product to grow at an average 6.7 per cent through fiscal 2031 to be the fastest-expanding large economy\"])\n",
        "\n",
        "pred=lr.predict(features)\n",
        "\n",
        "print(\"prediction:{}\".format(pred))"
      ],
      "metadata": {
        "colab": {
          "base_uri": "https://localhost:8080/"
        },
        "id": "hWYKFo10iob5",
        "outputId": "be4ecdbf-c86c-4baf-8df5-25e8caaf800f"
      },
      "execution_count": null,
      "outputs": [
        {
          "output_type": "stream",
          "name": "stdout",
          "text": [
            "prediction:['business']\n"
          ]
        }
      ]
    },
    {
      "cell_type": "code",
      "source": [
        "\n",
        "features=(['Former Pakistan pacer Wahab Riaz says Usama Mir should be included in the team during their next match against Australia in Bengaluru. Misbah wants Abrar in the playing XI.'])\n",
        "\n",
        "pred=lr.predict(features)\n",
        "\n",
        "print(\"prediction:{}\".format(pred))"
      ],
      "metadata": {
        "colab": {
          "base_uri": "https://localhost:8080/"
        },
        "id": "oWoj1zoIiuVo",
        "outputId": "ac86defe-b7fe-437a-d195-24a28e4d605a"
      },
      "execution_count": null,
      "outputs": [
        {
          "output_type": "stream",
          "name": "stdout",
          "text": [
            "prediction:['sport']\n"
          ]
        }
      ]
    },
    {
      "cell_type": "code",
      "source": [
        "features=(['blair prepares to name poll date tony blair is likely to name 5 may as election day when parliament returns from its easter break  the bbc s political editor has learned.  andrew marr says mr blair will ask the queen on 4 or 5 april to dissolve parliament at the end of that week. mr blair has so far resisted calls for him to name the day but all parties have stepped up campaigning recently. downing street would not be drawn on the claim  saying election timing was a matter for the prime minister.  a number 10 spokeswoman would only say:  he will announce an election when he wants to announce an election.  the move will signal a frantic week at westminster as the government is likely to try to get key legislation through parliament. the government needs its finance bill  covering the budget plans  to be passed before the commons closes for business at the end of the session on 7 april.  but it will also seek to push through its serious and organised crime bill and id cards bill. mr marr said on wednesday s today programme:  there s almost nobody at a senior level inside the government or in parliament itself who doesn t expect the election to be called on 4 or 5 april.  as soon as the commons is back after the short easter recess  tony blair whips up to the palace  asks the queen to dissolve parliament ... and we re going.  the labour government officially has until june 2006 to hold general election  but in recent years governments have favoured four-year terms.'])\n",
        "pred=lr.predict(features)\n",
        "\n",
        "print(\"prediction:{}\".format(pred))"
      ],
      "metadata": {
        "colab": {
          "base_uri": "https://localhost:8080/"
        },
        "id": "imiT-X9zizdc",
        "outputId": "79826e61-d3bb-41e2-d3bb-424b500d6e53"
      },
      "execution_count": null,
      "outputs": [
        {
          "output_type": "stream",
          "name": "stdout",
          "text": [
            "prediction:['politics']\n"
          ]
        }
      ]
    },
    {
      "cell_type": "code",
      "source": [
        "features=(['Rajinikanth was in Thoothukudi earlier this week for the shooting of Thalaivar 170, and in an interaction with the media, the Superstar was asked about Vijay’s upcoming film, Leo. He said, “I pray to god that the film becomes a success.” The statement has united fans of the two stars, who in recent years have become close competitors. After the success of Jailer, which went on to collect more than Rs 650 crore at the box office, Rajinikanth is said to have reclaimed his position at the top of the Tamil film industry pyramid. Before the film’s release, however, it was Vijay who had established himself as the premier star of the industry, with a string of hits to his name.'])\n",
        "\n",
        "pred=lr.predict(features)\n",
        "\n",
        "print(\"prediction:{}\".format(pred))"
      ],
      "metadata": {
        "colab": {
          "base_uri": "https://localhost:8080/"
        },
        "id": "UANo2QfZi8br",
        "outputId": "6f7f9481-e587-4052-c00c-3892c7d93dee"
      },
      "execution_count": null,
      "outputs": [
        {
          "output_type": "stream",
          "name": "stdout",
          "text": [
            "prediction:['entertainment']\n"
          ]
        }
      ]
    },
    {
      "cell_type": "code",
      "source": [
        "features=([\"A government-commissioned review into the civil service is expected to suggest scrapping the post of cabinet secretary and breaking up the Treasury.Former Cabinet Office minister Lord Maude was tasked last year with finding ways to improve government efficiency,His report, with the Cabinet Office, will also recommend giving ministers more say in the appointment of civil servants, the Times reports.It is expected to be published this autumn - potentially in a few weeks.The recommendations reported by the newspaper include to replace the post of cabinet secretary with two new jobs: one to advise the prime minister and the other to head up the civil service.Simon Case is the current cabinet secretary and head of the civil service, after being appointed in 2020. The cabinet secretary is the prime minister's most senior policy adviser, and is responsible to all ministers for the running of the cabinet - the PM's top team.\"])\n",
        "\n",
        "pred=lr.predict(features)\n",
        "\n",
        "print(\"prediction:{}\".format(pred))"
      ],
      "metadata": {
        "colab": {
          "base_uri": "https://localhost:8080/"
        },
        "id": "4o6yO-2jjcfw",
        "outputId": "4fad3394-4935-4c8e-a3ad-0a9f2ee0bf3e"
      },
      "execution_count": null,
      "outputs": [
        {
          "output_type": "stream",
          "name": "stdout",
          "text": [
            "prediction:['politics']\n"
          ]
        }
      ]
    },
    {
      "cell_type": "code",
      "source": [
        "features=([\"South Africa, having won both their games at the tournament prior to this by more than 100 runs, after posting totals of 428 and 311, had insisted in the lead-up that they had moved on from a group-stage defeat to Netherlands which ended their T20 World Cup campaign last year. \"])\n",
        "\n",
        "pred=lr.predict(features)\n",
        "\n",
        "print(\"prediction:{}\".format(pred))"
      ],
      "metadata": {
        "colab": {
          "base_uri": "https://localhost:8080/"
        },
        "outputId": "84006893-42c8-437a-bc92-b1f79bef43dd",
        "id": "JCHXzfzf9ZwP"
      },
      "execution_count": null,
      "outputs": [
        {
          "output_type": "stream",
          "name": "stdout",
          "text": [
            "prediction:['sport']\n"
          ]
        }
      ]
    }
  ]
}