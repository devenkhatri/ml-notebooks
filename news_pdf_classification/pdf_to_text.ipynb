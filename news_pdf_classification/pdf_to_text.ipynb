{
  "nbformat": 4,
  "nbformat_minor": 0,
  "metadata": {
    "colab": {
      "provenance": []
    },
    "kernelspec": {
      "name": "python3",
      "display_name": "Python 3"
    },
    "language_info": {
      "name": "python"
    }
  },
  "cells": [
    {
      "cell_type": "markdown",
      "source": [
        "# Importing Necessary library  \n",
        "pypdf2 is imported as it is a free and open source pure-python PDF library capable of splitting, merging, cropping, and transforming the pages of PDF files."
      ],
      "metadata": {
        "id": "CSph4lVtVeLp"
      }
    },
    {
      "cell_type": "code",
      "source": [
        "!pip install PyPDF2\n",
        "import PyPDF2 as pypdf"
      ],
      "metadata": {
        "colab": {
          "base_uri": "https://localhost:8080/"
        },
        "id": "weGeXlAXQ8Ld",
        "outputId": "906c1212-f89b-4614-8027-4b59998885d6"
      },
      "execution_count": null,
      "outputs": [
        {
          "output_type": "stream",
          "name": "stdout",
          "text": [
            "Collecting PyPDF2\n",
            "  Downloading pypdf2-3.0.1-py3-none-any.whl (232 kB)\n",
            "\u001b[?25l     \u001b[90m━━━━━━━━━━━━━━━━━━━━━━━━━━━━━━━━━━━━━━━━\u001b[0m \u001b[32m0.0/232.6 kB\u001b[0m \u001b[31m?\u001b[0m eta \u001b[36m-:--:--\u001b[0m\r\u001b[2K     \u001b[91m━━━━━━━━━━━━━━━━━━━━━━━━━━━━━━━━━━━━━━\u001b[0m\u001b[91m╸\u001b[0m\u001b[90m━\u001b[0m \u001b[32m225.3/232.6 kB\u001b[0m \u001b[31m6.5 MB/s\u001b[0m eta \u001b[36m0:00:01\u001b[0m\r\u001b[2K     \u001b[90m━━━━━━━━━━━━━━━━━━━━━━━━━━━━━━━━━━━━━━━━\u001b[0m \u001b[32m232.6/232.6 kB\u001b[0m \u001b[31m5.2 MB/s\u001b[0m eta \u001b[36m0:00:00\u001b[0m\n",
            "\u001b[?25hInstalling collected packages: PyPDF2\n",
            "Successfully installed PyPDF2-3.0.1\n"
          ]
        }
      ]
    },
    {
      "cell_type": "markdown",
      "source": [
        "# File operations\n",
        " Binary files supports binary formats like pdf or word files.  To open files in binary mode, when specifying a mode, add 'b' to it.\"rb\" option opens the file in binary format for reading. The pdf reader object allows you access informations regarding the pdf file .\n",
        "\n"
      ],
      "metadata": {
        "id": "ivmaJJ1CirpC"
      }
    },
    {
      "cell_type": "markdown",
      "source": [
        " Open the PDF file in binary mode ,\n",
        " Create a reader object."
      ],
      "metadata": {
        "id": "XlTjmshomOxH"
      }
    },
    {
      "cell_type": "code",
      "source": [
        "pdf_file = open(\"doc1.pdf\", \"rb\")\n",
        "pdf_reader = pypdf.PdfReader(pdf_file)"
      ],
      "metadata": {
        "id": "LPi4tochRTqO"
      },
      "execution_count": null,
      "outputs": []
    },
    {
      "cell_type": "markdown",
      "source": [
        "Get the number of pages."
      ],
      "metadata": {
        "id": "ef1xt95Ynki_"
      }
    },
    {
      "cell_type": "code",
      "source": [
        "num_pages = len(pdf_reader.pages)\n",
        "\n"
      ],
      "metadata": {
        "id": "EyQMB_bpR05Z"
      },
      "execution_count": null,
      "outputs": []
    },
    {
      "cell_type": "markdown",
      "source": [
        "Create a list to store the text from each page.\n",
        "Iterate over the pages and extract the text."
      ],
      "metadata": {
        "id": "AeQJ81C5nurp"
      }
    },
    {
      "cell_type": "code",
      "source": [
        "text_list = []\n",
        "\n",
        "for i in range(num_pages):\n",
        "\n",
        "  page = pdf_reader.pages[i]\n",
        "\n",
        "  text = page.extract_text()\n",
        "\n",
        "  text_list.append(text)\n"
      ],
      "metadata": {
        "id": "uSjNUtJfR5js"
      },
      "execution_count": null,
      "outputs": []
    },
    {
      "cell_type": "markdown",
      "source": [
        "\n",
        "Print the metadata of the file"
      ],
      "metadata": {
        "id": "uNjgW6XSoFHw"
      }
    },
    {
      "cell_type": "code",
      "source": [
        "docInfo = pdf_reader.metadata\n",
        "\n",
        "print (\"----Metadata of the file----\")\n",
        "\n",
        "for metadata in docInfo:\n",
        "\n",
        "  print (metadata+ \":\" +docInfo[metadata])\n"
      ],
      "metadata": {
        "id": "SXEeWP0nR-Vj",
        "colab": {
          "base_uri": "https://localhost:8080/"
        },
        "outputId": "b794b160-323c-476c-d00e-4831ee0b7fad"
      },
      "execution_count": null,
      "outputs": [
        {
          "output_type": "stream",
          "name": "stdout",
          "text": [
            "----Metadata of the file----\n",
            "/CreationDate:D:20180611120644+06'30'\n",
            "/Creator:Adobe Illustrator CC 2015 (Windows)\n",
            "/ModDate:D:20180611120644+05'30'\n",
            "/Producer:Adobe PDF library 15.00\n",
            "/Title:pdf_final\n"
          ]
        }
      ]
    },
    {
      "cell_type": "markdown",
      "source": [
        "Print the contents of file"
      ],
      "metadata": {
        "id": "h75Qx-PQoMcj"
      }
    },
    {
      "cell_type": "code",
      "source": [
        "print (\"----CONTENT of the file----\")\n",
        "\n",
        "# Print the text.\n",
        "\n",
        "for text in text_list:\n",
        "\n",
        "  print(text)\n",
        "\n"
      ],
      "metadata": {
        "id": "rLXeerAFSCqa",
        "colab": {
          "base_uri": "https://localhost:8080/"
        },
        "outputId": "54f0c3f5-8bc8-4cf1-ec11-2e8807d00f1d"
      },
      "execution_count": null,
      "outputs": [
        {
          "output_type": "stream",
          "name": "stdout",
          "text": [
            "----CONTENT of the file----\n",
            "• Managing 2 types of CTMS systems for 2 top global pharma.\n",
            "• Access management, Study/Country/Site Creation,Updating    study/country/site level data.\n",
            "• Providing study status reports, and managing data updates and \n",
            "   access management to all other integrated systems .• Monitoring visit report review services.\n",
            "• Verify if US investigators have a sanction against them on the    State Medical Board Websites and ﬂags them in the system.\n",
            "• Automated process to review all 100 US-FDA Websites for all \n",
            "   Health Care Professionals (HCP’s).\n",
            "• Solution  automatically navigates and extracts information of \n",
            "   Investigators from US Government websites  and generates \n",
            "   reports for veriﬁcation and analysis.Clinical Trial\n",
            "Management Systems (CTMS)\n",
            "State Medical Board Sanction Checks \n",
            "• Collection, review, and reconciliation of FD’s and documents \n",
            "   related to it i.e. FDA 1572 and Investigators CV and maintains \n",
            "   them in the client proprietary system. \n",
            "• Generation of FDA FD reports required for various US \n",
            "   FDA submissions.Financial\n",
            "DisclosureManagement\n",
            "• Investigator Debarment checks at the beginning of the study \n",
            "   and on a weekly basis on the USFDA Website mainly the\n",
            "   1.FDA Debarment List, 2.FDA Warning Letters and\n",
            "   3.FDA Clinical Investigator.\n",
            "• Disqualiﬁcation Proceedings and updates the status of the \n",
            "   investigator in the system.• Generation of Debarment Certiﬁcates for various FDA   submissions. Investigator\n",
            "Debarment Checks Clinical Operations – Services Offered\n",
            "• QC and uploading  of all essential and non-essential documents\n",
            "   like regulatory documents (FDs, FDA 1572, CVs, etc.), IRB-IEC   documents and Submission, approval letters & membership lists.\n",
            "• IP release  documents, Site Initiation Packages (SIP), Protocol\n",
            "   Signature Pages (PSP), Competent Authority approval letters    and Sponsor Information Sheet (SIS) documents.• Essential Study Information (ESI) documents, local Inform   Consent Form (ICFs), Local  Destruction Forms (LDF).\n",
            "• Drug accountability and reconciliation forms, SSR plan\n",
            "   (Sponsor Study Records) and SSMMG  (Study Speciﬁc   Management & Monitoring Guidance) documents and archival. \n",
            "• Uploading and sharing of safety documents (e.g. IND Safety    Reports, Investigator Brochures, SAE Reconciliations, IB \n",
            "   Supplements and Safety Report Notiﬁcations) with sites. \n",
            "• Management of the Inbox for bounced emails of safety \n",
            "   notiﬁcations to ensure that safety communication loop is \n",
            "   complete. • Quality check of various safety reports, in terms of consistency    check with previous submissions to the FDA.eTrial Master \n",
            "File (eTMF)\n",
            "Safety Records and  Notifications\n",
            "• Management of IP release documents (FDA 1572, Investigators \n",
            "   CV, IRB approval letter, PSP , ICF, regulatory approval, FD, etc.) in \n",
            "   the drug shipment approval management system, sets up \n",
            "   centers/site & activates them. \n",
            "• QC and approval of the IP release package and approves drug \n",
            "   shipment to these sites in the client system.• Archival of the corresponding documents to the client    proprietary electronic repository at the end of the study. Drug shipment \n",
            "Records & Approval\n",
            "• Archival  support services, and supports in creation of \n",
            "   electronic copies from hard copy documents , creates  \n",
            "• CD back up  and  also performs archival of documents  into the \n",
            "   clients electronic archival  system. Archival  \n",
            "Services \n",
            "  • TCS oﬀers Central Monitoring & Site Monitoring Package \n",
            "     preparation, Risk Based Monitoring & Medical      Monitoring Support.\n",
            "• Follow-up support on trials running over a long duration, in    order to achieve 100% completion of missing documents and \n",
            "   data for audit and Inspection readiness.Centralized \n",
            "Monitoring Services\n",
            "Long Term Follow up studies support \n",
            "• TCS supports in Site Initiation preparation by tracking the SIV  \n",
            "   dates for the sites and  supporting in the, Site Initiation Package \n",
            "   (SIP) Preparation, obtaining   the latest version of the client  \n",
            "   templates, editing with the study details, review & reconciliation \n",
            "   as per QC criteria,  and preparing  the SIP  for the study.Site Initiation \n",
            "Packages \n",
            "• TCS provides  EC submission services  to a Global Top 5 UK \n",
            "   based Pharmaceutical Company, and prepares  for  the \n",
            "   submission through  Integrated Research  Application Systems \n",
            "   (IRAS ) web based application for  REC submission.EC Submission \n",
            "Services\n",
            "• Metrics Reports: TCS generates standard as well as customized \n",
            "   clinical trials metrics reports and provides them to the client as \n",
            "   per the  agreed frequency. \n",
            "• FDAAA 2007: TCS performs data entry in the client’s clinical trial \n",
            "   registry and data from this client registry ﬂows into various \n",
            "   public clinical trial registries.• eTMF Audit Support : TCS has assisted the client team in getting     the documents ready on an expedited basis in the eTMF for \n",
            "   audits and inspection. Ancillary \n",
            "Services \n"
          ]
        }
      ]
    },
    {
      "cell_type": "markdown",
      "source": [
        " Close the file."
      ],
      "metadata": {
        "id": "C09JKF4loWhw"
      }
    },
    {
      "cell_type": "code",
      "source": [
        "pdf_file.close()"
      ],
      "metadata": {
        "id": "rpUjCZBiQtUa"
      },
      "execution_count": null,
      "outputs": []
    }
  ]
}